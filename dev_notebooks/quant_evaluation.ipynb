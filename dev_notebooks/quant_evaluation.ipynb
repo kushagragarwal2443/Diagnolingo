{
 "cells": [
  {
   "cell_type": "code",
   "execution_count": 15,
   "id": "934e102d-082b-485c-9842-4fe583885e85",
   "metadata": {},
   "outputs": [],
   "source": [
    "from typing import List, Tuple\n",
    "from difflib import SequenceMatcher\n",
    "from nltk import ngrams\n",
    "from collections import Counter\n",
    "import re\n",
    "import pandas as pd\n",
    "import numpy as np\n",
    "from sklearn.metrics import precision_score, recall_score, f1_score"
   ]
  },
  {
   "cell_type": "code",
   "execution_count": 11,
   "id": "b511410e-7f9f-472d-96b6-331cfe955d09",
   "metadata": {},
   "outputs": [],
   "source": [
    "medical_terms = [\n",
    "    # Diseases and Conditions\n",
    "    \"diabetes\", \"hypertension\", \"asthma\", \"pneumonia\", \"arthritis\", \"stroke\", \"cancer\", \n",
    "    \"migraine\", \"obesity\", \"anemia\", \"depression\", \"anxiety\", \"eczema\", \"allergies\", \n",
    "    \"bronchitis\", \"sinusitis\", \"gout\", \"ulcer\", \"psoriasis\", \"hypothyroidism\", \"hyperthyroidism\", \n",
    "    \"chronic pain\", \"fibromyalgia\", \"osteoporosis\", \"tuberculosis\", \"chronic kidney disease\", \n",
    "    \"liver disease\", \"hepatitis\", \"HIV\", \"heart disease\", \"atrial fibrillation\", \"acid reflux\", \n",
    "    \"gastroesophageal reflux disease (GERD)\", \"irritable bowel syndrome (IBS)\", \"constipation\", \n",
    "    \"diarrhea\", \"celiac disease\", \"gluten intolerance\", \"insomnia\", \"sleep apnea\", \"anemia\", \n",
    "    \"polycystic ovary syndrome (PCOS)\", \"endometriosis\", \"menopause\", \"erectile dysfunction\", \n",
    "    \"benign prostatic hyperplasia (BPH)\", \"urinary tract infection (UTI)\", \"gallstones\", \n",
    "    \"kidney stones\", \"osteomyelitis\", \"skin infection\", \"acne\", \"vitamin deficiency\", \n",
    "    \"malnutrition\", \"chronic fatigue syndrome\", \"common cold\", \"influenza\", \"conjunctivitis\",\n",
    "    \n",
    "    # Symptoms\n",
    "    \"fever\", \"cough\", \"shortness of breath\", \"fatigue\", \"nausea\", \"vomiting\", \"headache\", \n",
    "    \"rash\", \"dizziness\", \"chills\", \"sweating\", \"palpitations\", \"chest pain\", \"abdominal pain\", \n",
    "    \"joint pain\", \"back pain\", \"muscle pain\", \"sore throat\", \"runny nose\", \"stuffy nose\", \n",
    "    \"loss of taste\", \"loss of smell\", \"itching\", \"swelling\", \"weakness\", \"tingling\", \n",
    "    \"numbness\", \"burning sensation\", \"blurred vision\", \"double vision\", \"hearing loss\", \n",
    "    \"ringing in the ears\", \"frequent urination\", \"painful urination\", \"blood in urine\", \n",
    "    \"weight loss\", \"weight gain\", \"appetite loss\", \"constipation\", \"diarrhea\", \"bloody stools\", \n",
    "    \"hair loss\", \"skin discoloration\", \"easy bruising\", \"frequent infections\", \"difficulty swallowing\", \n",
    "    \"heartburn\", \"difficulty sleeping\", \"night sweats\", \"anxiety\", \"depression\", \"confusion\", \n",
    "    \"memory loss\", \"slurred speech\", \"difficulty walking\", \"seizures\", \"fainting\", \n",
    "\n",
    "    # Medications\n",
    "    \"aspirin\", \"ibuprofen\", \"acetaminophen\", \"metformin\", \"lisinopril\", \"amlodipine\", \"atorvastatin\", \n",
    "    \"simvastatin\", \"omeprazole\", \"pantoprazole\", \"ranitidine\", \"warfarin\", \"clopidogrel\", \"losartan\", \n",
    "    \"furosemide\", \"hydrochlorothiazide\", \"spironolactone\", \"prednisone\", \"dexamethasone\", \"albuterol\", \n",
    "    \"salbutamol\", \"insulin\", \"metoprolol\", \"propranolol\", \"carvedilol\", \"atenolol\", \"amoxicillin\", \n",
    "    \"cephalexin\", \"azithromycin\", \"doxycycline\", \"ciprofloxacin\", \"levofloxacin\", \"trimethoprim\", \n",
    "    \"sulfamethoxazole\", \"clindamycin\", \"fluconazole\", \"ketoconazole\", \"acyclovir\", \"valacyclovir\", \n",
    "    \"gabapentin\", \"pregabalin\", \"duloxetine\", \"venlafaxine\", \"sertraline\", \"fluoxetine\", \"paroxetine\", \n",
    "    \"citalopram\", \"escitalopram\", \"bupropion\", \"trazodone\", \"mirtazapine\", \"olanzapine\", \"risperidone\", \n",
    "    \"quetiapine\", \"aripiprazole\", \"lithium\", \"haloperidol\", \"lorazepam\", \"alprazolam\", \"diazepam\", \n",
    "    \"clonazepam\", \"zolpidem\", \"eszopiclone\", \"modafinil\", \"lactulose\", \"mirabegron\", \"oxybutynin\", \n",
    "\n",
    "    # Procedures and Diagnostics\n",
    "    \"blood test\", \"urine test\", \"X-ray\", \"CT scan\", \"MRI\", \"ultrasound\", \"biopsy\", \"colonoscopy\", \n",
    "    \"endoscopy\", \"echocardiogram\", \"electrocardiogram (ECG)\", \"stress test\", \"pulmonary function test\", \n",
    "    \"spirometry\", \"allergy test\", \"skin biopsy\", \"pap smear\", \"mammogram\", \"bone density test\", \n",
    "    \"cholesterol test\", \"blood sugar test\", \"thyroid test\", \"liver function test\", \"kidney function test\", \n",
    "    \"hematocrit\", \"hemoglobin\", \"complete blood count (CBC)\", \"prostate exam\", \"eye exam\", \n",
    "    \"hearing test\", \"mental health screening\", \"vaccination\", \"flu shot\", \"COVID-19 test\", \n",
    "\n",
    "    # Body Parts and General Terms\n",
    "    \"heart\", \"lungs\", \"liver\", \"kidneys\", \"stomach\", \"intestines\", \"brain\", \"spinal cord\", \n",
    "    \"nerves\", \"muscles\", \"bones\", \"joints\", \"skin\", \"eyes\", \"ears\", \"nose\", \"throat\", \"teeth\", \n",
    "    \"gums\", \"tongue\", \"esophagus\", \"pancreas\", \"spleen\", \"bladder\", \"prostate\", \"ovaries\", \n",
    "    \"uterus\", \"cervix\", \"testicles\", \"penis\", \"vagina\", \"urethra\", \"blood vessels\", \"arteries\", \n",
    "    \"veins\", \"lymph nodes\", \"lymphatic system\", \"immune system\", \"endocrine system\", \n",
    "    \"nervous system\", \"respiratory system\", \"digestive system\", \"reproductive system\", \n",
    "\n",
    "    # Medical Terms and Concepts\n",
    "    \"diagnosis\", \"treatment\", \"prognosis\", \"symptom\", \"syndrome\", \"acute\", \"chronic\", \"remission\", \n",
    "    \"relapse\", \"inflammation\", \"infection\", \"immunity\", \"antibody\", \"antigen\", \"vaccine\", \"therapy\", \n",
    "    \"surgery\", \"medication\", \"prescription\", \"dosage\", \"side effect\", \"adverse reaction\", \"contraindication\", \n",
    "    \"allergy\", \"anesthesia\", \"sedation\", \"rehabilitation\", \"physical therapy\", \"occupational therapy\", \n",
    "    \"counseling\", \"psychotherapy\", \"diet\", \"exercise\", \"hydration\", \"rest\", \"smoking cessation\", \n",
    "    \"alcohol abstinence\", \"monitoring\", \"follow-up\", \"screening\", \"preventive care\", \"primary care\", \n",
    "    \"specialist\", \"referral\", \"emergency\", \"urgent care\", \"hospitalization\", \"outpatient\", \"clinic\"\n",
    "]"
   ]
  },
  {
   "cell_type": "code",
   "execution_count": 22,
   "id": "2878a019-54fc-46aa-97a5-5880dec6d232",
   "metadata": {},
   "outputs": [],
   "source": [
    "def extract_medical_concepts(text, medical_terms):\n",
    "    text = text.lower()\n",
    "    found_concepts = set()\n",
    "    for term in medical_terms:\n",
    "        if re.search(r'\\b' + re.escape(term) + r'\\b', text):\n",
    "            found_concepts.add(term)\n",
    "    return found_concepts\n",
    "\n",
    "def compute_metrics(ground_truth, predicted):\n",
    "    y_true = [1 if term in ground_truth else 0 for term in medical_terms]\n",
    "    y_pred = [1 if term in predicted else 0 for term in medical_terms]\n",
    "    precision = precision_score(y_true, y_pred)\n",
    "    recall = recall_score(y_true, y_pred)\n",
    "    f1 = f1_score(y_true, y_pred)\n",
    "    return precision, recall, f1\n",
    "\n",
    "def medical_concepts(transcript, whisper, medical_terms):\n",
    "    ground_truth_concepts = extract_medical_concepts(transcript, medical_terms)\n",
    "    predicted_concepts = extract_medical_concepts(whisper, medical_terms)\n",
    "    precision, recall, f1 = compute_metrics(ground_truth_concepts, predicted_concepts)\n",
    "    return precision, recall, f1"
   ]
  },
  {
   "cell_type": "code",
   "execution_count": 23,
   "id": "84f96dd6-496a-4d89-b0ae-47c16c6cf6b4",
   "metadata": {},
   "outputs": [],
   "source": [
    "def compute_wer(reference: str, hypothesis: str) -> float:\n",
    "    \"\"\"\n",
    "    Compute Word Error Rate (WER).\n",
    "    \"\"\"\n",
    "    ref_words = reference.split()\n",
    "    hyp_words = hypothesis.split()\n",
    "    matcher = SequenceMatcher(None, ref_words, hyp_words)\n",
    "    edit_operations = sum(op[0] != 'equal' for op in matcher.get_opcodes())\n",
    "    \n",
    "    wer = edit_operations / len(ref_words) if ref_words else 0\n",
    "    return wer\n",
    "\n",
    "def compute_cer(reference: str, hypothesis: str) -> float:\n",
    "    \"\"\"\n",
    "    Compute Character Error Rate (CER).\n",
    "    \"\"\"\n",
    "    matcher = SequenceMatcher(None, reference, hypothesis)\n",
    "    edit_operations = sum(op[0] != 'equal' for op in matcher.get_opcodes())\n",
    "    \n",
    "    cer = edit_operations / len(reference) if reference else 0\n",
    "    return cer\n",
    "\n",
    "def compute_ngram_similarity(reference: str, hypothesis: str, n: int) -> float:\n",
    "    \"\"\"\n",
    "    Compute n-gram similarity.\n",
    "    \"\"\"\n",
    "    ref_ngrams = Counter(ngrams(reference.split(), n))\n",
    "    hyp_ngrams = Counter(ngrams(hypothesis.split(), n))\n",
    "    \n",
    "    common = sum((ref_ngrams & hyp_ngrams).values())  # Intersection of n-grams\n",
    "    total = sum(ref_ngrams.values())\n",
    "    \n",
    "    similarity = common / total if total else 0\n",
    "    return similarity\n",
    "\n",
    "def analyze_transcripts(reference: str, hypothesis: str):\n",
    "    \"\"\"\n",
    "    Analyze WER, CER, and n-gram similarities between two transcripts.\n",
    "    \"\"\"\n",
    "    wer = compute_wer(reference, hypothesis)\n",
    "    cer = compute_cer(reference, hypothesis)\n",
    "    unigram_similarity = compute_ngram_similarity(reference, hypothesis, 1)\n",
    "    bigram_similarity = compute_ngram_similarity(reference, hypothesis, 2)\n",
    "    \n",
    "    print(\"Word Error Rate (WER):\", round(wer, 4))\n",
    "    print(\"Character Error Rate (CER):\", round(cer, 4))\n",
    "    print(\"Unigram Similarity:\", round(unigram_similarity, 4))\n",
    "    print(\"Bigram Similarity:\", round(bigram_similarity, 4))"
   ]
  },
  {
   "cell_type": "markdown",
   "id": "4f9a6581-fbb0-4009-be69-340eee27f758",
   "metadata": {},
   "source": [
    "## Load Data"
   ]
  },
  {
   "cell_type": "code",
   "execution_count": 16,
   "id": "90ab31e1-e26b-4376-b464-7d0294eaed22",
   "metadata": {},
   "outputs": [],
   "source": [
    "df = pd.read_csv('./data/LoganReview.csv')\n",
    "all_ehrs = []\n",
    "all_notes = []\n",
    "all_conversations = []\n",
    "for i in range(5):\n",
    "    conversation = df['conversation'][i]\n",
    "    note = df['note'][i]\n",
    "    ehr = df['ehr'][i]\n",
    "    all_ehrs.append(ehr)\n",
    "    all_notes.append(note)\n",
    "    all_conversations.append(conversation)"
   ]
  },
  {
   "cell_type": "code",
   "execution_count": 34,
   "id": "781b0405-7183-453a-a55b-79a1c94fd79c",
   "metadata": {},
   "outputs": [],
   "source": [
    "all_whispers = []\n",
    "for i in range(5):\n",
    "    \n",
    "    file_path = f\"./data/whisper_transcripts/transcript_{i}.txt\"\n",
    "    with open(file_path, 'r', encoding='utf-8') as file:\n",
    "        content = file.read()\n",
    "    all_whispers.append(content)"
   ]
  },
  {
   "cell_type": "code",
   "execution_count": 48,
   "id": "0dfc0931-4915-45fb-bcbe-056db2143b94",
   "metadata": {},
   "outputs": [],
   "source": [
    "all_gpts = []\n",
    "for i in range(5):\n",
    "    \n",
    "    file_path = f\"./data/whisper_transcripts/transcript_{i}_gpt.txt\"\n",
    "    with open(file_path, 'r', encoding='utf-8') as file:\n",
    "        content = file.read()\n",
    "    all_gpts.append(content)"
   ]
  },
  {
   "cell_type": "markdown",
   "id": "e77bb8e9-e452-47b9-aae9-f8502c9b9f91",
   "metadata": {},
   "source": [
    "## Medical concepts Note -> EHR"
   ]
  },
  {
   "cell_type": "code",
   "execution_count": 27,
   "id": "ca901007-8977-4048-9351-56ea5142472d",
   "metadata": {},
   "outputs": [
    {
     "name": "stdout",
     "output_type": "stream",
     "text": [
      "0\n",
      "0.5714285714285714 0.5714285714285714 0.5714285714285714\n",
      "\n",
      "1\n",
      "0.6153846153846154 0.5 0.5517241379310345\n",
      "\n",
      "2\n",
      "0.6363636363636364 0.6363636363636364 0.6363636363636364\n",
      "\n",
      "3\n",
      "0.25 0.3333333333333333 0.2857142857142857\n",
      "\n",
      "4\n",
      "0.5555555555555556 0.625 0.5882352941176471\n",
      "\n",
      "0.5257464757464758 0.5332251082251083 0.526693185111035\n"
     ]
    }
   ],
   "source": [
    "average_precision = 0\n",
    "average_recall = 0\n",
    "average_f1 = 0\n",
    "\n",
    "for i in range(5):\n",
    "    note = all_notes[i]\n",
    "    ehr = all_ehrs[i]\n",
    "    precision, recall, f1 = medical_concepts(note, ehr, medical_terms)\n",
    "    print(i)\n",
    "    print(precision, recall, f1)\n",
    "    print()\n",
    "    average_precision += precision\n",
    "    average_recall += recall\n",
    "    average_f1 += f1\n",
    "\n",
    "print(average_precision/5, average_recall/5, average_f1/5)"
   ]
  },
  {
   "cell_type": "markdown",
   "id": "6100ebb7-ee50-4e10-85da-1637ec885724",
   "metadata": {},
   "source": [
    "## Medical concepts Transcript"
   ]
  },
  {
   "cell_type": "code",
   "execution_count": 49,
   "id": "07db1532-3458-4a6b-ad13-dfc0a88b5d0e",
   "metadata": {},
   "outputs": [
    {
     "name": "stdout",
     "output_type": "stream",
     "text": [
      "0\n",
      "0.75 0.8181818181818182 0.782608695652174\n",
      "0.9 0.8181818181818182 0.8571428571428571\n",
      "\n",
      "2\n",
      "0.8461538461538461 0.7857142857142857 0.8148148148148148\n",
      "0.9230769230769231 0.8571428571428571 0.8888888888888888\n",
      "\n",
      "4\n",
      "0.75 1.0 0.8571428571428571\n",
      "0.8888888888888888 0.8888888888888888 0.8888888888888888\n",
      "\n",
      "0.903988603988604 0.8547378547378548 0.8783068783068783\n"
     ]
    }
   ],
   "source": [
    "average_precision = 0\n",
    "average_recall = 0\n",
    "average_f1 = 0\n",
    "\n",
    "for i in [0,2,4]:\n",
    "    conversation = all_conversations[i].replace(\"[doctor]\", \"\").replace(\"[patient]\", \"\")\n",
    "    transcript = all_whispers[i]\n",
    "    gpt_transcript = all_gpts[i].replace(\"Speaker 1\", \"\").replace(\"Speaker 2\", \"\").replace(\"Doctor\", \"\").replace(\"Patient\", \"\").replace(\"Sophia\", \"\")\n",
    "    print(i)\n",
    "    precision, recall, f1 = medical_concepts(conversation, transcript, medical_terms)\n",
    "    print(precision, recall, f1)\n",
    "    precision, recall, f1 = medical_concepts(conversation, gpt_transcript, medical_terms)\n",
    "    print(precision, recall, f1)\n",
    "    print()\n",
    "    average_precision += precision\n",
    "    average_recall += recall\n",
    "    average_f1 += f1\n",
    "\n",
    "print(average_precision/3, average_recall/3, average_f1/3)"
   ]
  },
  {
   "cell_type": "markdown",
   "id": "179128f3-0c82-4738-b980-65fb72fabb32",
   "metadata": {},
   "source": [
    "## WER, CER Transcript -> Whisper"
   ]
  },
  {
   "cell_type": "code",
   "execution_count": 50,
   "id": "d308e59a-7fec-4891-a157-080ddded4c47",
   "metadata": {},
   "outputs": [
    {
     "name": "stdout",
     "output_type": "stream",
     "text": [
      "0\n",
      "Word Error Rate (WER): 0.059\n",
      "Character Error Rate (CER): 0.0009\n",
      "Unigram Similarity: 0.4209\n",
      "Bigram Similarity: 0.127\n",
      "\n",
      "Word Error Rate (WER): 0.0608\n",
      "Character Error Rate (CER): 0.0016\n",
      "Unigram Similarity: 0.2958\n",
      "Bigram Similarity: 0.1127\n",
      "\n",
      "2\n",
      "Word Error Rate (WER): 0.0475\n",
      "Character Error Rate (CER): 0.0029\n",
      "Unigram Similarity: 0.4272\n",
      "Bigram Similarity: 0.1209\n",
      "\n",
      "Word Error Rate (WER): 0.0867\n",
      "Character Error Rate (CER): 0.005\n",
      "Unigram Similarity: 0.3426\n",
      "Bigram Similarity: 0.1333\n",
      "\n",
      "4\n",
      "Word Error Rate (WER): 0.0763\n",
      "Character Error Rate (CER): 0.0008\n",
      "Unigram Similarity: 0.423\n",
      "Bigram Similarity: 0.1167\n",
      "\n",
      "Word Error Rate (WER): 0.0874\n",
      "Character Error Rate (CER): 0.0017\n",
      "Unigram Similarity: 0.2913\n",
      "Bigram Similarity: 0.0889\n",
      "\n"
     ]
    }
   ],
   "source": [
    "for i in [0, 2, 4]:\n",
    "    conversation = all_conversations[i].replace(\"[doctor]\", \"\").replace(\"[patient]\", \"\")\n",
    "    transcript = all_whispers[i]\n",
    "    gpt_transcript = all_gpts[i].replace(\"Speaker 1\", \"\").replace(\"Speaker 2\", \"\").replace(\"Doctor\", \"\").replace(\"Patient\", \"\").replace(\"Sophia\", \"\")\n",
    "    print(i)\n",
    "    analyze_transcripts(conversation, transcript)\n",
    "    print()\n",
    "    analyze_transcripts(conversation, gpt_transcript)\n",
    "    print()"
   ]
  },
  {
   "cell_type": "code",
   "execution_count": null,
   "id": "5db014cf-0989-42a8-9f49-669e8e5f9dd6",
   "metadata": {},
   "outputs": [],
   "source": []
  }
 ],
 "metadata": {
  "kernelspec": {
   "display_name": "Python 3 (ipykernel)",
   "language": "python",
   "name": "python3"
  },
  "language_info": {
   "codemirror_mode": {
    "name": "ipython",
    "version": 3
   },
   "file_extension": ".py",
   "mimetype": "text/x-python",
   "name": "python",
   "nbconvert_exporter": "python",
   "pygments_lexer": "ipython3",
   "version": "3.11.7"
  }
 },
 "nbformat": 4,
 "nbformat_minor": 5
}
