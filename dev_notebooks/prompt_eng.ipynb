{
 "cells": [
  {
   "cell_type": "code",
   "execution_count": 1,
   "id": "e94acd9e-4d6d-45d4-964a-fceb819cf42a",
   "metadata": {},
   "outputs": [],
   "source": [
    "import os\n",
    "import openai\n",
    "import langchain\n",
    "from langchain.prompts import ChatPromptTemplate\n",
    "from langchain.vectorstores import FAISS\n",
    "from langchain.document_loaders import CSVLoader\n",
    "from langchain.embeddings.base import Embeddings\n",
    "import pandas as pd\n",
    "import tiktoken\n",
    "import json\n",
    "import warnings\n",
    "warnings.filterwarnings(\"ignore\")\n",
    "\n",
    "openai_api_key = os.environ['OPENAI_API_KEY']\n",
    "client = openai.OpenAI(\n",
    "    api_key=openai_api_key,\n",
    "    base_url=\"https://cmu.litellm.ai\",\n",
    ")"
   ]
  },
  {
   "cell_type": "code",
   "execution_count": 2,
   "id": "09763488-13e4-46dd-a660-aeadc3fb9a2e",
   "metadata": {},
   "outputs": [],
   "source": [
    "conversation = \"\"\"[doctor] hey george how are you today i understand you're here for some numbness and tingling in your fingers and some pain in your wrist [patient] right my left wrist and hand has been bothering me probably for a few months now with pain and numbness [doctor] okay and you said that's been ongoing for several months do you know what caused this type of pain or is it just something that started slowly or [patient] it just kinda started on it's own it i notice it mostly at night [doctor] okay [patient] sometimes it will i'll wake up and my hands asleep and i got ta shake it out [doctor] shake it out and okay [patient] and then some [doctor] what kind of work do you do [patient] i do yard work [doctor] yard work [patient] landscaping landscaping [doctor] landscaping okay so a lot of raking a lot of digging so a lot of repetitive type movements [patient] yeah it's pretty heavy labor but it's yeah the same thing day in and day out [doctor] okay okay just a couple questions for you you did say that you have the pain at night in that and you have to you get that numbness into the hand is it in all the fingers [patient] yeah it seems to happen to all my fingers but i notice it more in my thumb and pointer finger [doctor] okay okay and anything into that little into your fifth finger your little finger any numbness there at times no [patient] sometimes yeah it seems like it's numb too [doctor] okay what about your right hand any problems with that hand [patient] no i do n't seem to have any problems with my right hand so far it's just mostly my left [doctor] okay okay good and just a couple you know do you how do you have many or do you drink often do you have you know many any alcohol consumption [patient] i drink usually a a beer or two on fridays and saturdays on the weekends [doctor] okay and do you have any evidence of any anybody ever said that you had some rheumatoid arthritis in your hand or wrist anything like that [patient] no nobody say anything like that so i mean [doctor] okay okay good so let me go ahead and do a physical exam here real quick and you know i'm gon na quickly just listen to your heart and lungs okay that's good i'd like you to squeeze i'm gon na hold your hands here and i'd like you to squeeze both hands [patient] okay [doctor] you seem a little bit weaker on that left hand is that what you've noticed [patient] yeah i i i experienced some weakness in my left hand [doctor] okay do you you find that you're dropping things when you're picking it up is it to that level or [patient] yeah i drop things mostly because i have a hard time feeling it [doctor] okay okay good and so you you do have a a grip strength is less on the left and i just wan na touch your fingers here on the on the right side you can feel me touching all the fingers on the right [patient] yeah i can i can say you touch me but it feels a little more weird on the thumb side than my pointer finger side [doctor] okay okay and i wan na turn your wrist over here and turn your hand over and i'm gon na go ahead and tap on the right wrist on the back here does that do anything when i do that [patient] i still i feel a little jolt or a zing in my finger tips [doctor] okay and then when i do that on the left side [patient] yeah same thing [doctor] same thing okay so you do have a bilateral positive tinel's sign so so here's here's where i'm at i think your your diagnosis is beginning to have some bilateral carpal tunnel syndrome usually we see that with repetitive actions such as the landscaping the heavy labor and you you know your your clinical exam and and history sound like it's a carpal tunnel syndrome i do want to order so where are we gon na go from here i would like to order a a study it's called an emg where it it measures some of that electrical impulses down into your fingers we will follow up with that but as far as your treatment so the treatment for carpal tunnel syndrome is really some activity modification now i know you are a landscaper is there any way that you could be work to have some lighter work during the time [patient] i suppose i could try to pass it off to some of my other employes and delegate [doctor] okay that would be good so that's i i just want you to kinda eliminate that the active repetitive motions that you're doing all the time just for a couple weeks i'm also gon na give you a wrist splint to wear and that should help and i'd like you to take ibuprofen six hundred milligrams every six hours and then i wan na see you back here in the office in two weeks and in that two week period i think we're gon na see if there's need for any other intervention if i need to do more diagnostic testing or if there is a possibly looking at a surgical intervention to release that pressure that's on the nerves in that hand does that sound like a a good plan for you [patient] yeah it sounds like a good first start [doctor] okay okay so i i just just off off the record here what kind of what do what do you specialize in landscaping is your company do [patient] mostly like yard work and maintenance flower beds not really designing just up keep [doctor] okay yeah i'm looking for a landscape designer i need somebody to put in some elaborate walkways back through the backyard so yeah we can do stuff like that i mean if you have an idea what you want i think that's easy [patient] okay [doctor] you know if you're looking for like some [patient] backyard elasis rehab remodel that's i mean i suppose we could do we have n't done things like that in a while because we're busy enough with just the up key but it's something to explore [doctor] okay yeah i may have to keep that in mind because i do wan na do some of that so let's listen i'm gon na get my my nurse in here to discharge you do you have any other questions for me before we end this [patient] no i think it's all clear i appreciate it [doctor] okay take care and i'll look forward to see you in two weeks [patient] very good appreciate your time\"\"\"\n",
    "\n",
    "prompt_template = ChatPromptTemplate.from_template(\"\"\"Write as a professional medical scribe, ensuring medical accuracy, clarity, and brevity. Go through the following doctor-patient conversation and create a SOAP note for it. A SOAP note consists of Subjective, Objective, Assessment and Plan sections. Just include these 4 sections and nothing else in the note. For each subfield in each of the four sections return a list of items in decreasing order of importance. If you do not have information for a particular field return an empty list. \\\n",
    "1. ‘Subjective’ section includes items taken during the patient's verbal exam. Include 'Chief complaint', 'History of present illness', and 'Past social history' as subfields. \\\n",
    "2. ’Objective’ section includes findings from the physical examinations and diagnostics taken prior to the visit, including laboratory or imaging results, broken down by exam type. It should have the following subfields: ’Vital signs’, ’Physical exam findings’, ’Laboratory data’, ’Imaging results’, and ’Other diagnostic data’. If a specific exam type is not mentioned, return an empty list for that subfield. \\\n",
    "3. ’Assessment’ includes the doctor’s diagnosis as a list in the subfield ’Diagnosis’ in decreasing order of importance. \\\n",
    "4. ’Plan’ section contains planned ’Tests’, ’Referrals’, ’Medications’ along with ’Instructions’ as separate subfields. ’Medications’ should contain a list of prescribed medications with a dictionary for each containing medication ’Name’, ’Dosage’, ’Route’, and ’Frequency’. If no medication is mentioned, the 'Medications' should return an empty list. \\\n",
    "If you do not have data for a particular section or a sub-section, return an empty list for that particular subfield. Ensure that the medical terminology used in the conversation is accurately reflected. SOAP note should be concise, and avoid adding details not explicitly mentioned in the conversation. Format the output as JSON with the keys: ’Subjective’, ’Objective’, ’Assessment’ and ’Plan’. For each of these sections create dictionaries within for the different subfields. \\\n",
    "\\\n",
    "### \\\n",
    "Conversation: {conversation}\"\"\")\n",
    "\n",
    "formatted_prompt = prompt_template.format(conversation=conversation)"
   ]
  },
  {
   "cell_type": "code",
   "execution_count": 3,
   "id": "18d54850-be6f-45ec-ab90-e3bd812e4a7d",
   "metadata": {},
   "outputs": [
    {
     "name": "stdout",
     "output_type": "stream",
     "text": [
      "1721 336 2057\n"
     ]
    }
   ],
   "source": [
    "response = client.chat.completions.create(\n",
    "  model=\"gpt-4o-mini\",\n",
    "  temperature=0,\n",
    "  messages=[\n",
    "    {\"role\": \"user\", \"content\": formatted_prompt},\n",
    "  ]\n",
    ")\n",
    "print(response.usage.prompt_tokens, response.usage.completion_tokens, response.usage.total_tokens)\n",
    "\n",
    "response_json = response.choices[0].message.content.strip('```json').strip('```')\n",
    "soap_note = json.loads(response_json)"
   ]
  },
  {
   "cell_type": "code",
   "execution_count": 4,
   "id": "e94cab04-494b-4ea0-bed1-adb5b95e191a",
   "metadata": {},
   "outputs": [
    {
     "data": {
      "text/plain": [
       "{'Subjective': {'Chief complaint': ['Numbness and tingling in fingers',\n",
       "   'Pain in left wrist'],\n",
       "  'History of present illness': ['Symptoms ongoing for a few months',\n",
       "   'Noticed mostly at night',\n",
       "   'Wakes up with hands asleep',\n",
       "   'Weakness in left hand',\n",
       "   'Dropping objects due to difficulty feeling them'],\n",
       "  'Past social history': ['Works in landscaping',\n",
       "   'Occasional alcohol consumption (1-2 beers on weekends)']},\n",
       " 'Objective': {'Vital signs': [],\n",
       "  'Physical exam findings': ['Weaker grip strength in left hand',\n",
       "   \"Bilateral positive Tinel's sign\",\n",
       "   'Altered sensation in left thumb and pointer finger'],\n",
       "  'Laboratory data': [],\n",
       "  'Imaging results': [],\n",
       "  'Other diagnostic data': []},\n",
       " 'Assessment': {'Diagnosis': ['Bilateral carpal tunnel syndrome']},\n",
       " 'Plan': {'Tests': ['EMG study to measure electrical impulses in fingers'],\n",
       "  'Referrals': [],\n",
       "  'Medications': [{'Name': 'Ibuprofen',\n",
       "    'Dosage': '600 mg',\n",
       "    'Route': 'Oral',\n",
       "    'Frequency': 'Every 6 hours'}],\n",
       "  'Instructions': ['Activity modification to reduce repetitive motions',\n",
       "   'Wear wrist splint',\n",
       "   'Follow up in 2 weeks for reassessment']}}"
      ]
     },
     "execution_count": 4,
     "metadata": {},
     "output_type": "execute_result"
    }
   ],
   "source": [
    "soap_note"
   ]
  },
  {
   "cell_type": "code",
   "execution_count": 7,
   "id": "ad4ec8ed-8ff3-4965-a2ad-4ad7b271d7f6",
   "metadata": {},
   "outputs": [
    {
     "name": "stdout",
     "output_type": "stream",
     "text": [
      "{'Chief complaint': ['Numbness and tingling in fingers', 'Pain in left wrist'], 'History of present illness': ['Symptoms ongoing for a few months', 'Noticed mostly at night', 'Wakes up with hands asleep', 'Weakness in left hand', 'Dropping objects due to difficulty feeling them'], 'Past social history': ['Works in landscaping', 'Occasional alcohol consumption (1-2 beers on weekends)']}\n",
      "{'Vital signs': [], 'Physical exam findings': ['Weaker grip strength in left hand', \"Bilateral positive Tinel's sign\", 'Altered sensation in left thumb and pointer finger'], 'Laboratory data': [], 'Imaging results': [], 'Other diagnostic data': []}\n",
      "{'Diagnosis': ['Bilateral carpal tunnel syndrome']}\n",
      "{'Tests': ['EMG study to measure electrical impulses in fingers'], 'Referrals': [], 'Medications': [{'Name': 'Ibuprofen', 'Dosage': '600 mg', 'Route': 'Oral', 'Frequency': 'Every 6 hours'}], 'Instructions': ['Activity modification to reduce repetitive motions', 'Wear wrist splint', 'Follow up in 2 weeks for reassessment']}\n",
      "Ibuprofen\n"
     ]
    }
   ],
   "source": [
    "print(soap_note['Subjective'])\n",
    "# print(soap_note['Subjective']['Chief complaint'][1])\n",
    "print(soap_note['Objective'])\n",
    "print(soap_note['Assessment'])\n",
    "print(soap_note['Plan'])\n",
    "print(soap_note['Plan']['Medications'][0]['Name'])"
   ]
  },
  {
   "cell_type": "markdown",
   "id": "c472f57f-0d4b-4ffe-b4e2-36c886b123c9",
   "metadata": {},
   "source": [
    "## RAG"
   ]
  },
  {
   "cell_type": "code",
   "execution_count": 13,
   "id": "75c5023e-edb0-4370-8a3e-eb23fcf13e32",
   "metadata": {},
   "outputs": [],
   "source": [
    "class CustomOpenAIEmbeddings(Embeddings):\n",
    "    def __init__(self, client):\n",
    "        self.client = client\n",
    "\n",
    "    def embed_documents(self, texts):\n",
    "        embeddings = []\n",
    "        counter = 0\n",
    "        for text in texts:\n",
    "            if(counter%500==0):\n",
    "                print(counter)\n",
    "            counter +=1\n",
    "            response = self.client.embeddings.create(input=text, model=\"text-embedding-3-small\")\n",
    "            embedding = response.data[0].embedding\n",
    "            embeddings.append(embedding)\n",
    "        return embeddings\n",
    "\n",
    "    def embed_query(self, text):\n",
    "        response = self.client.embeddings.create(input=text, model=\"text-embedding-3-small\")\n",
    "        return response.data[0].embedding\n",
    "\n",
    "embedding_model = CustomOpenAIEmbeddings(client)"
   ]
  },
  {
   "cell_type": "code",
   "execution_count": 28,
   "id": "3a75a70a-77a4-4cb5-aff9-ff0ac9485ab3",
   "metadata": {},
   "outputs": [],
   "source": [
    "cpt_vector_store = FAISS.load_local(\"CPT_index\", embedding_model, allow_dangerous_deserialization=True)\n",
    "icd_vector_store = FAISS.load_local(\"ICD_index\", embedding_model, allow_dangerous_deserialization=True)\n",
    "ndc_vector_store = FAISS.load_local(\"NDC_index\", embedding_model, allow_dangerous_deserialization=True)"
   ]
  },
  {
   "cell_type": "code",
   "execution_count": 33,
   "id": "8b0798b4-da19-4080-aac7-dbf63d129050",
   "metadata": {},
   "outputs": [],
   "source": [
    "soap_note['Codes'] = {}\n",
    "soap_note['Codes']['Tests'] = {}\n",
    "soap_note['Codes']['Medications'] = {}\n",
    "soap_note['Codes']['Diagnosis'] = {}"
   ]
  },
  {
   "cell_type": "markdown",
   "id": "6db72567-6d52-4166-ae63-61aa51e2da29",
   "metadata": {},
   "source": [
    "#### CPT"
   ]
  },
  {
   "cell_type": "code",
   "execution_count": 40,
   "id": "e8f3350c-14bb-487a-b6d6-c228c0a6429b",
   "metadata": {},
   "outputs": [
    {
     "name": "stdout",
     "output_type": "stream",
     "text": [
      "Human: Find the CPT codes corresponding to the following test: EMG study to measure electrical impulses in fingers Instruction: Only use the following returned documents to get the CPT codes. Ensure matching is case-insensitive. If there are multiple codes possible, return all of them. If no useful codes are found, just return 'N/A'. Output the codes as a comma-separated list in order of confidence without spaces. Here are the relevant documents:  ### CODE: 96002\n",
      "DESCRIPTION: Dynamic surface emg ### CODE: 96003\n",
      "DESCRIPTION: Dynamic fine wire emg ### CODE: 97032\n",
      "DESCRIPTION: Electrical stimulation ### CODE: 93930\n",
      "DESCRIPTION: Upper extremity study\n",
      "\n",
      "{'EMG study to measure electrical impulses in fingers': ['93930', '96002', '96003']}\n"
     ]
    }
   ],
   "source": [
    "for tests in soap_note['Plan']['Tests']:\n",
    "\n",
    "    soap_note['Codes']['Tests'][tests] = []\n",
    "    tests_prompt = \"Find the CPT codes corresponding to the following test: \" + tests\n",
    "    \n",
    "    tests_retriever = cpt_vector_store.as_retriever()\n",
    "    tests_retrieved_docs = tests_retriever.get_relevant_documents(tests_prompt)\n",
    "    \n",
    "    tests_joined_docs = \"\"\n",
    "    for doc in tests_retrieved_docs:\n",
    "        tests_joined_docs = tests_joined_docs + \" ### \" + doc.page_content\n",
    "    \n",
    "    tests_prompt_rag = ChatPromptTemplate.from_template(\"\"\"{tests_prompt} Instruction: Only use the following returned documents to get the CPT codes. Ensure matching is case-insensitive. If there are multiple codes possible, return all of them. If no useful codes are found, just return 'N/A'. Output the codes as a comma-separated list in order of confidence without spaces. Here are the relevant documents: {tests_joined_docs}\"\"\")\n",
    "    tests_prompt_rag = tests_prompt_rag.format(tests_prompt=tests_prompt, tests_joined_docs=tests_joined_docs)\n",
    "\n",
    "    print(tests_prompt_rag)\n",
    "    print()\n",
    "    \n",
    "    tests_response = client.chat.completions.create(\n",
    "      model=\"gpt-4o-mini\",\n",
    "      temperature=0,\n",
    "      seed=42,\n",
    "      messages=[\n",
    "        {\"role\": \"user\", \"content\": tests_prompt_rag},\n",
    "      ],\n",
    "    )\n",
    "    \n",
    "    tests_codes = tests_response.choices[0].message.content\n",
    "    \n",
    "    tests_codes_list = tests_codes.strip().split(\",\")\n",
    "    for code in tests_codes_list:\n",
    "        code = code.strip()\n",
    "        soap_note['Codes']['Tests'][tests].append(str(code))\n",
    "\n",
    "print(soap_note['Codes']['Tests'])"
   ]
  },
  {
   "cell_type": "markdown",
   "id": "93a42c72-3a1f-4155-9599-d5eb1411c93d",
   "metadata": {},
   "source": [
    "#### ICD"
   ]
  },
  {
   "cell_type": "code",
   "execution_count": 39,
   "id": "ee47b6d6-42a9-4ffe-b0be-87c37f23dc13",
   "metadata": {},
   "outputs": [
    {
     "name": "stdout",
     "output_type": "stream",
     "text": [
      "Human: Find the ICD-10 code corresponding to the following diagnosis: Bilateral carpal tunnel syndrome Instruction: Only use the following returned documents to get the ICD codes. Ensure matching is case-insensitive. If there are multiple codes possible, return all of them. If no useful codes are found, just return 'N/A'. Output the codes as a comma-separated list in order of confidence without spaces. Here are the relevant documents:  ### CODE: G5603\n",
      "DESCRIPTION: Carpal tunnel syndrome; bilateral upper limbs ### CODE: G5600\n",
      "DESCRIPTION: Carpal tunnel syndrome; unspecified upper limb ### CODE: G5602\n",
      "DESCRIPTION: Carpal tunnel syndrome; left upper limb ### CODE: G5601\n",
      "DESCRIPTION: Carpal tunnel syndrome; right upper limb\n",
      "\n",
      "{'Bilateral carpal tunnel syndrome': ['G5603', 'G5600']}\n"
     ]
    }
   ],
   "source": [
    "for diagnosis in soap_note['Assessment']['Diagnosis']:\n",
    "\n",
    "    soap_note['Codes']['Diagnosis'][diagnosis] = []\n",
    "\n",
    "    diagnosis_prompt = \"Find the ICD-10 code corresponding to the following diagnosis: \" + diagnosis\n",
    "    \n",
    "    diagnosis_retriever = icd_vector_store.as_retriever()\n",
    "    diagnosis_retrieved_docs = diagnosis_retriever.get_relevant_documents(diagnosis_prompt)\n",
    "    \n",
    "    diagnosis_joined_docs = \"\"\n",
    "    for doc in diagnosis_retrieved_docs:\n",
    "        diagnosis_joined_docs = diagnosis_joined_docs + \" ### \" + doc.page_content\n",
    "    \n",
    "    diagnosis_prompt_rag = ChatPromptTemplate.from_template(\"\"\"{diagnosis_prompt} Instruction: Only use the following returned documents to get the ICD codes. Ensure matching is case-insensitive. If there are multiple codes possible, return all of them. If no useful codes are found, just return 'N/A'. Output the codes as a comma-separated list in order of confidence without spaces. Here are the relevant documents: {diagnosis_joined_docs}\"\"\")\n",
    "    diagnosis_prompt_rag = diagnosis_prompt_rag.format(diagnosis_prompt=diagnosis_prompt, diagnosis_joined_docs=diagnosis_joined_docs)\n",
    "    \n",
    "    print(diagnosis_prompt_rag)\n",
    "    print()\n",
    "    \n",
    "    diagnosis_response = client.chat.completions.create(\n",
    "      model=\"gpt-4o-mini\",\n",
    "      temperature=0,\n",
    "      seed=42,\n",
    "      messages=[\n",
    "        {\"role\": \"user\", \"content\": diagnosis_prompt_rag},\n",
    "      ]\n",
    "    )\n",
    "    \n",
    "    diagnosis_codes = diagnosis_response.choices[0].message.content\n",
    "    diagnosis_codes_list = diagnosis_codes.strip().split(\",\")\n",
    "    for code in diagnosis_codes_list:\n",
    "        code = code.strip()\n",
    "        soap_note['Codes']['Diagnosis'][diagnosis].append(str(code))\n",
    "\n",
    "print(soap_note['Codes']['Diagnosis'])"
   ]
  },
  {
   "cell_type": "markdown",
   "id": "ac4a0533-0c74-46d6-867a-67f21aa5cc58",
   "metadata": {},
   "source": [
    "#### NDC"
   ]
  },
  {
   "cell_type": "code",
   "execution_count": 38,
   "id": "e9384592-0ff0-48ca-b0f5-b09e951eb480",
   "metadata": {},
   "outputs": [
    {
     "name": "stdout",
     "output_type": "stream",
     "text": [
      "Human: Find the NDC codes corresponding to the following drug: Ibuprofen, 600 mg Instruction: Only use the following returned documents to get the NDC codes. Ensure matching is case-insensitive. If there are multiple codes possible, return all of them. If no useful codes are found, just return 'N/A'. Output the codes as a comma-separated list in order of confidence without spaces. Here are the relevant documents:  ### DRUG: Ibupro\n",
      "NDC: 904585361 ### DRUG: Ibuprofen\n",
      "NDC: 182181089 ### DRUG: ibuprofen\n",
      "NDC: 904585361 ### DRUG: Ibup\n",
      "NDC: 904585461\n",
      "\n",
      "{'Ibuprofen, 600 mg': ['182181089', '904585361', '904585461']}\n"
     ]
    }
   ],
   "source": [
    "for drug_entry in soap_note['Plan']['Medications']:\n",
    "\n",
    "    drugs = drug_entry[\"Name\"] + \", \" + drug_entry[\"Dosage\"]\n",
    "    soap_note['Codes']['Medications'][drugs] = []\n",
    "    \n",
    "    drugs_prompt = \"Find the NDC codes corresponding to the following drug: \" + drugs\n",
    "    \n",
    "    drugs_retriever = ndc_vector_store.as_retriever()\n",
    "    drugs_retrieved_docs = drugs_retriever.get_relevant_documents(drugs_prompt)\n",
    "    \n",
    "    drugs_joined_docs = \"\"\n",
    "    for doc in drugs_retrieved_docs:\n",
    "        drugs_joined_docs = drugs_joined_docs + \" ### \" + doc.page_content\n",
    "    \n",
    "    drugs_prompt_rag = ChatPromptTemplate.from_template(\"\"\"{drugs_prompt} Instruction: Only use the following returned documents to get the NDC codes. Ensure matching is case-insensitive. If there are multiple codes possible, return all of them. If no useful codes are found, just return 'N/A'. Output the codes as a comma-separated list in order of confidence without spaces. Here are the relevant documents: {drugs_joined_docs}\"\"\")\n",
    "    drugs_prompt_rag = drugs_prompt_rag.format(drugs_prompt=drugs_prompt, drugs_joined_docs=drugs_joined_docs)\n",
    "    \n",
    "    print(drugs_prompt_rag)\n",
    "    print()\n",
    "    \n",
    "    drugs_response = client.chat.completions.create(\n",
    "      model=\"gpt-4o-mini\",\n",
    "      temperature=0,\n",
    "      seed=42,\n",
    "      messages=[\n",
    "        {\"role\": \"user\", \"content\": drugs_prompt_rag},\n",
    "      ]\n",
    "    )\n",
    "    \n",
    "    drugs_codes = drugs_response.choices[0].message.content\n",
    "\n",
    "    drugs_codes_list = drugs_codes.strip().split(\",\")\n",
    "    for code in drugs_codes_list:\n",
    "        code = code.strip()\n",
    "        soap_note['Codes']['Medications'][drugs].append(str(code))\n",
    "\n",
    "print(soap_note['Codes']['Medications'])"
   ]
  }
 ],
 "metadata": {
  "kernelspec": {
   "display_name": "Python 3 (ipykernel)",
   "language": "python",
   "name": "python3"
  },
  "language_info": {
   "codemirror_mode": {
    "name": "ipython",
    "version": 3
   },
   "file_extension": ".py",
   "mimetype": "text/x-python",
   "name": "python",
   "nbconvert_exporter": "python",
   "pygments_lexer": "ipython3",
   "version": "3.11.7"
  }
 },
 "nbformat": 4,
 "nbformat_minor": 5
}
