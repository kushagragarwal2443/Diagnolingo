{
 "cells": [
  {
   "cell_type": "code",
   "execution_count": 1,
   "id": "844de0d1-95f5-4073-b6cd-3159a483bc5c",
   "metadata": {},
   "outputs": [],
   "source": [
    "import pandas as pd\n",
    "import numpy as np"
   ]
  },
  {
   "cell_type": "code",
   "execution_count": 14,
   "id": "b7d5fc9c-e548-4ba0-b9ef-b696277967e5",
   "metadata": {},
   "outputs": [
    {
     "name": "stdout",
     "output_type": "stream",
     "text": [
      "73201\n"
     ]
    },
    {
     "data": {
      "text/html": [
       "<div>\n",
       "<style scoped>\n",
       "    .dataframe tbody tr th:only-of-type {\n",
       "        vertical-align: middle;\n",
       "    }\n",
       "\n",
       "    .dataframe tbody tr th {\n",
       "        vertical-align: top;\n",
       "    }\n",
       "\n",
       "    .dataframe thead th {\n",
       "        text-align: right;\n",
       "    }\n",
       "</style>\n",
       "<table border=\"1\" class=\"dataframe\">\n",
       "  <thead>\n",
       "    <tr style=\"text-align: right;\">\n",
       "      <th></th>\n",
       "      <th>CODE</th>\n",
       "      <th>DESCRIPTION</th>\n",
       "    </tr>\n",
       "  </thead>\n",
       "  <tbody>\n",
       "    <tr>\n",
       "      <th>0</th>\n",
       "      <td>A000</td>\n",
       "      <td>Cholera due to Vibrio cholerae 01; biovar chol...</td>\n",
       "    </tr>\n",
       "    <tr>\n",
       "      <th>1</th>\n",
       "      <td>A001</td>\n",
       "      <td>Cholera due to Vibrio cholerae 01; biovar eltor</td>\n",
       "    </tr>\n",
       "    <tr>\n",
       "      <th>2</th>\n",
       "      <td>A009</td>\n",
       "      <td>Cholera; unspecified</td>\n",
       "    </tr>\n",
       "    <tr>\n",
       "      <th>3</th>\n",
       "      <td>A0100</td>\n",
       "      <td>Typhoid fever; unspecified</td>\n",
       "    </tr>\n",
       "    <tr>\n",
       "      <th>4</th>\n",
       "      <td>A0101</td>\n",
       "      <td>Typhoid meningitis</td>\n",
       "    </tr>\n",
       "  </tbody>\n",
       "</table>\n",
       "</div>"
      ],
      "text/plain": [
       "    CODE                                        DESCRIPTION\n",
       "0   A000  Cholera due to Vibrio cholerae 01; biovar chol...\n",
       "1   A001    Cholera due to Vibrio cholerae 01; biovar eltor\n",
       "2   A009                               Cholera; unspecified\n",
       "3  A0100                         Typhoid fever; unspecified\n",
       "4  A0101                                 Typhoid meningitis"
      ]
     },
     "execution_count": 14,
     "metadata": {},
     "output_type": "execute_result"
    }
   ],
   "source": [
    "icd_df = pd.read_excel('data/orig/ICD.xlsx')\n",
    "icd_df = icd_df.drop(columns=[\"SHORT DESCRIPTION (VALID ICD-10 FY2024)\", \"NF EXCL\"], axis=0)\n",
    "icd_df.rename(columns={'LONG DESCRIPTION (VALID ICD-10 FY2024)': 'DESCRIPTION'}, inplace=True)\n",
    "icd_df = icd_df.replace(',', ';', regex=True)\n",
    "icd_df.to_csv(\"data/ICD.csv\", index=False)\n",
    "print(len(icd_df))\n",
    "icd_df.head()"
   ]
  },
  {
   "cell_type": "code",
   "execution_count": 20,
   "id": "f95fe28b-26dc-4c4d-8c68-70ff5e9e2a3f",
   "metadata": {},
   "outputs": [
    {
     "name": "stdout",
     "output_type": "stream",
     "text": [
      "12984\n"
     ]
    },
    {
     "data": {
      "text/html": [
       "<div>\n",
       "<style scoped>\n",
       "    .dataframe tbody tr th:only-of-type {\n",
       "        vertical-align: middle;\n",
       "    }\n",
       "\n",
       "    .dataframe tbody tr th {\n",
       "        vertical-align: top;\n",
       "    }\n",
       "\n",
       "    .dataframe thead th {\n",
       "        text-align: right;\n",
       "    }\n",
       "</style>\n",
       "<table border=\"1\" class=\"dataframe\">\n",
       "  <thead>\n",
       "    <tr style=\"text-align: right;\">\n",
       "      <th></th>\n",
       "      <th>DRUG</th>\n",
       "      <th>NDC</th>\n",
       "    </tr>\n",
       "  </thead>\n",
       "  <tbody>\n",
       "    <tr>\n",
       "      <th>0</th>\n",
       "      <td>Acetaminophen</td>\n",
       "      <td>904198861</td>\n",
       "    </tr>\n",
       "    <tr>\n",
       "      <th>2</th>\n",
       "      <td>Furosemide</td>\n",
       "      <td>51079007320</td>\n",
       "    </tr>\n",
       "    <tr>\n",
       "      <th>3</th>\n",
       "      <td>Raltegravir</td>\n",
       "      <td>6022761</td>\n",
       "    </tr>\n",
       "    <tr>\n",
       "      <th>4</th>\n",
       "      <td>Heparin</td>\n",
       "      <td>63323026201</td>\n",
       "    </tr>\n",
       "    <tr>\n",
       "      <th>5</th>\n",
       "      <td>Albuterol Inhaler</td>\n",
       "      <td>173068224</td>\n",
       "    </tr>\n",
       "  </tbody>\n",
       "</table>\n",
       "</div>"
      ],
      "text/plain": [
       "                DRUG          NDC\n",
       "0      Acetaminophen    904198861\n",
       "2         Furosemide  51079007320\n",
       "3        Raltegravir      6022761\n",
       "4            Heparin  63323026201\n",
       "5  Albuterol Inhaler    173068224"
      ]
     },
     "execution_count": 20,
     "metadata": {},
     "output_type": "execute_result"
    }
   ],
   "source": [
    "med_df = pd.read_csv('data/orig/d_meds.csv')\n",
    "med_df.rename(columns={'drug': 'DRUG', 'ndc':'NDC'}, inplace=True)\n",
    "med_df['NDC'] = med_df['NDC'].astype(int)\n",
    "med_df = med_df[med_df['NDC'] != 0]\n",
    "med_df['NDC'] = med_df['NDC'].astype(str)\n",
    "med_df = med_df.replace(',', ';', regex=True)\n",
    "med_df.to_csv(\"data/NDC.csv\", index=False)\n",
    "print(len(med_df))\n",
    "med_df.head()"
   ]
  },
  {
   "cell_type": "code",
   "execution_count": 21,
   "id": "e25ca607-c676-4ce7-a8da-88bd7f0f3465",
   "metadata": {},
   "outputs": [
    {
     "name": "stdout",
     "output_type": "stream",
     "text": [
      "5697\n"
     ]
    },
    {
     "data": {
      "text/html": [
       "<div>\n",
       "<style scoped>\n",
       "    .dataframe tbody tr th:only-of-type {\n",
       "        vertical-align: middle;\n",
       "    }\n",
       "\n",
       "    .dataframe tbody tr th {\n",
       "        vertical-align: top;\n",
       "    }\n",
       "\n",
       "    .dataframe thead th {\n",
       "        text-align: right;\n",
       "    }\n",
       "</style>\n",
       "<table border=\"1\" class=\"dataframe\">\n",
       "  <thead>\n",
       "    <tr style=\"text-align: right;\">\n",
       "      <th></th>\n",
       "      <th>DRUG</th>\n",
       "      <th>NDC</th>\n",
       "    </tr>\n",
       "  </thead>\n",
       "  <tbody>\n",
       "    <tr>\n",
       "      <th>0</th>\n",
       "      <td>Acetaminophen</td>\n",
       "      <td>904198861</td>\n",
       "    </tr>\n",
       "    <tr>\n",
       "      <th>1</th>\n",
       "      <td>Furosemide</td>\n",
       "      <td>51079007320</td>\n",
       "    </tr>\n",
       "    <tr>\n",
       "      <th>2</th>\n",
       "      <td>Raltegravir</td>\n",
       "      <td>6022761</td>\n",
       "    </tr>\n",
       "    <tr>\n",
       "      <th>3</th>\n",
       "      <td>Heparin</td>\n",
       "      <td>63323026201</td>\n",
       "    </tr>\n",
       "    <tr>\n",
       "      <th>4</th>\n",
       "      <td>Albuterol Inhaler</td>\n",
       "      <td>173068224</td>\n",
       "    </tr>\n",
       "  </tbody>\n",
       "</table>\n",
       "</div>"
      ],
      "text/plain": [
       "                DRUG          NDC\n",
       "0      Acetaminophen    904198861\n",
       "1         Furosemide  51079007320\n",
       "2        Raltegravir      6022761\n",
       "3            Heparin  63323026201\n",
       "4  Albuterol Inhaler    173068224"
      ]
     },
     "execution_count": 21,
     "metadata": {},
     "output_type": "execute_result"
    }
   ],
   "source": [
    "med_df = med_df.drop_duplicates(subset='DRUG', keep='first')\n",
    "med_df = med_df.reset_index()\n",
    "med_df = med_df.drop(columns=['index'])\n",
    "med_df.to_csv(\"data/NDC_unique.csv\", index=False)\n",
    "print(len(med_df))\n",
    "med_df.head()"
   ]
  },
  {
   "cell_type": "code",
   "execution_count": 27,
   "id": "aa790d09-c23c-4383-af0c-89e25c9c804d",
   "metadata": {},
   "outputs": [
    {
     "name": "stdout",
     "output_type": "stream",
     "text": [
      "1214\n"
     ]
    },
    {
     "data": {
      "text/html": [
       "<div>\n",
       "<style scoped>\n",
       "    .dataframe tbody tr th:only-of-type {\n",
       "        vertical-align: middle;\n",
       "    }\n",
       "\n",
       "    .dataframe tbody tr th {\n",
       "        vertical-align: top;\n",
       "    }\n",
       "\n",
       "    .dataframe thead th {\n",
       "        text-align: right;\n",
       "    }\n",
       "</style>\n",
       "<table border=\"1\" class=\"dataframe\">\n",
       "  <thead>\n",
       "    <tr style=\"text-align: right;\">\n",
       "      <th></th>\n",
       "      <th>CODE</th>\n",
       "      <th>DESCRIPTION</th>\n",
       "    </tr>\n",
       "  </thead>\n",
       "  <tbody>\n",
       "    <tr>\n",
       "      <th>0</th>\n",
       "      <td>86152</td>\n",
       "      <td>Cell enumeration &amp;id</td>\n",
       "    </tr>\n",
       "    <tr>\n",
       "      <th>1</th>\n",
       "      <td>86153</td>\n",
       "      <td>Cell enumeration phys interp</td>\n",
       "    </tr>\n",
       "    <tr>\n",
       "      <th>2</th>\n",
       "      <td>86890</td>\n",
       "      <td>Autologous blood process</td>\n",
       "    </tr>\n",
       "    <tr>\n",
       "      <th>3</th>\n",
       "      <td>86891</td>\n",
       "      <td>Autologous blood op salvage</td>\n",
       "    </tr>\n",
       "    <tr>\n",
       "      <th>4</th>\n",
       "      <td>86927</td>\n",
       "      <td>Plasma fresh frozen</td>\n",
       "    </tr>\n",
       "  </tbody>\n",
       "</table>\n",
       "</div>"
      ],
      "text/plain": [
       "    CODE                   DESCRIPTION\n",
       "0  86152          Cell enumeration &id\n",
       "1  86153  Cell enumeration phys interp\n",
       "2  86890      Autologous blood process\n",
       "3  86891   Autologous blood op salvage\n",
       "4  86927           Plasma fresh frozen"
      ]
     },
     "execution_count": 27,
     "metadata": {},
     "output_type": "execute_result"
    }
   ],
   "source": [
    "cpt_df = pd.read_excel('data/orig/CPT.xlsx')\n",
    "cpt_df = cpt_df.dropna()\n",
    "cpt_df = cpt_df.reset_index()\n",
    "cpt_df = cpt_df.drop(columns=['index'])\n",
    "cpt_df.rename(columns={'Unnamed: 0': 'CODE', 'Unnamed: 1': 'DESCRIPTION'}, inplace=True)\n",
    "cpt_df = cpt_df.replace(',', ';', regex=True)\n",
    "cpt_df.to_csv(\"data/CPT.csv\", index=False)\n",
    "print(len(cpt_df))\n",
    "cpt_df.head(5)"
   ]
  }
 ],
 "metadata": {
  "kernelspec": {
   "display_name": "Python 3 (ipykernel)",
   "language": "python",
   "name": "python3"
  },
  "language_info": {
   "codemirror_mode": {
    "name": "ipython",
    "version": 3
   },
   "file_extension": ".py",
   "mimetype": "text/x-python",
   "name": "python",
   "nbconvert_exporter": "python",
   "pygments_lexer": "ipython3",
   "version": "3.11.7"
  }
 },
 "nbformat": 4,
 "nbformat_minor": 5
}
