{
 "cells": [
  {
   "cell_type": "code",
   "execution_count": 1,
   "id": "54ad50da-a02b-41a3-b4b1-b2ca2c5bbc57",
   "metadata": {},
   "outputs": [],
   "source": [
    "import os\n",
    "import openai\n",
    "import langchain\n",
    "from langchain.prompts import ChatPromptTemplate\n",
    "from langchain.vectorstores import FAISS\n",
    "from langchain.document_loaders import CSVLoader\n",
    "from langchain.embeddings.base import Embeddings\n",
    "from langchain.chains import RetrievalQA\n",
    "from langchain.indexes import VectorstoreIndexCreator\n",
    "import pandas as pd\n",
    "import tiktoken\n",
    "import json\n",
    "import warnings\n",
    "warnings.filterwarnings(\"ignore\")"
   ]
  },
  {
   "cell_type": "code",
   "execution_count": 2,
   "id": "b1af6f26-4446-44e8-918c-c999b3885462",
   "metadata": {},
   "outputs": [],
   "source": [
    "index_name = \"CPT_index\"\n",
    "file_name = \"./data/CPT.csv\""
   ]
  },
  {
   "cell_type": "code",
   "execution_count": 3,
   "id": "cec2f303-aef4-4721-b39a-5535aff3fe96",
   "metadata": {},
   "outputs": [],
   "source": [
    "openai_api_key = os.environ['OPENAI_API_KEY']\n",
    "client = openai.OpenAI(\n",
    "    api_key=openai_api_key,\n",
    "    base_url=\"https://cmu.litellm.ai\",\n",
    ")"
   ]
  },
  {
   "cell_type": "code",
   "execution_count": 6,
   "id": "4c394715-171a-4759-8a11-927a7f192d5c",
   "metadata": {},
   "outputs": [],
   "source": [
    "class CustomOpenAIEmbeddings(Embeddings):\n",
    "    def __init__(self, client):\n",
    "        self.client = client\n",
    "\n",
    "    def embed_documents(self, texts):\n",
    "        embeddings = []\n",
    "        counter = 0\n",
    "        for text in texts:\n",
    "            if(counter%100==0):\n",
    "                print(counter)\n",
    "            counter +=1\n",
    "            response = self.client.embeddings.create(input=text, model=\"text-embedding-3-small\")\n",
    "            embedding = response.data[0].embedding\n",
    "            embeddings.append(embedding)\n",
    "        return embeddings\n",
    "\n",
    "    def embed_query(self, text):\n",
    "        response = self.client.embeddings.create(input=text, model=\"text-embedding-3-small\")\n",
    "        return response.data[0].embedding\n",
    "\n",
    "embedding_model = CustomOpenAIEmbeddings(client)"
   ]
  },
  {
   "cell_type": "code",
   "execution_count": 5,
   "id": "60b4a2d7-356b-4e3d-b85e-7aef7030b966",
   "metadata": {},
   "outputs": [
    {
     "name": "stdout",
     "output_type": "stream",
     "text": [
      "1214\n"
     ]
    }
   ],
   "source": [
    "loader = CSVLoader(file_path=file_name)\n",
    "documents = loader.load()\n",
    "print(len(documents))"
   ]
  },
  {
   "cell_type": "code",
   "execution_count": 7,
   "id": "4d941074-37d5-44d4-8b09-67fc7a84da7f",
   "metadata": {},
   "outputs": [
    {
     "name": "stdout",
     "output_type": "stream",
     "text": [
      "0\n",
      "100\n",
      "200\n",
      "300\n",
      "400\n",
      "500\n",
      "600\n",
      "700\n",
      "800\n",
      "900\n",
      "1000\n",
      "1100\n",
      "1200\n"
     ]
    },
    {
     "name": "stderr",
     "output_type": "stream",
     "text": [
      "`embedding_function` is expected to be an Embeddings object, support for passing in a function will soon be removed.\n"
     ]
    }
   ],
   "source": [
    "if not os.path.exists(index_name):\n",
    "    document_texts = [doc.page_content for doc in documents]\n",
    "    document_embeddings = embedding_model.embed_documents(document_texts)\n",
    "\n",
    "    text_embedding_pairs = zip(document_texts, document_embeddings)\n",
    "    vector_store = FAISS.from_embeddings(text_embedding_pairs, embedding_model.embed_query)\n",
    "\n",
    "    vector_store.save_local(index_name)"
   ]
  }
 ],
 "metadata": {
  "kernelspec": {
   "display_name": "Python 3 (ipykernel)",
   "language": "python",
   "name": "python3"
  },
  "language_info": {
   "codemirror_mode": {
    "name": "ipython",
    "version": 3
   },
   "file_extension": ".py",
   "mimetype": "text/x-python",
   "name": "python",
   "nbconvert_exporter": "python",
   "pygments_lexer": "ipython3",
   "version": "3.11.7"
  }
 },
 "nbformat": 4,
 "nbformat_minor": 5
}
